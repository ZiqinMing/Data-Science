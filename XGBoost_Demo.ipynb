{
 "cells": [
  {
   "cell_type": "markdown",
   "id": "b16cc9f4",
   "metadata": {},
   "source": [
    "# XGBoost on Predicting Stock Price"
   ]
  },
  {
   "cell_type": "markdown",
   "id": "24360dda",
   "metadata": {},
   "source": [
    "# Load the dataset"
   ]
  },
  {
   "cell_type": "code",
   "execution_count": 1,
   "id": "d8e27515",
   "metadata": {},
   "outputs": [
    {
     "data": {
      "text/html": [
       "<div>\n",
       "<style scoped>\n",
       "    .dataframe tbody tr th:only-of-type {\n",
       "        vertical-align: middle;\n",
       "    }\n",
       "\n",
       "    .dataframe tbody tr th {\n",
       "        vertical-align: top;\n",
       "    }\n",
       "\n",
       "    .dataframe thead th {\n",
       "        text-align: right;\n",
       "    }\n",
       "</style>\n",
       "<table border=\"1\" class=\"dataframe\">\n",
       "  <thead>\n",
       "    <tr style=\"text-align: right;\">\n",
       "      <th></th>\n",
       "      <th>Close</th>\n",
       "    </tr>\n",
       "  </thead>\n",
       "  <tbody>\n",
       "    <tr>\n",
       "      <th>0</th>\n",
       "      <td>1416.599976</td>\n",
       "    </tr>\n",
       "    <tr>\n",
       "      <th>1</th>\n",
       "      <td>1418.339966</td>\n",
       "    </tr>\n",
       "    <tr>\n",
       "      <th>2</th>\n",
       "      <td>1409.709961</td>\n",
       "    </tr>\n",
       "    <tr>\n",
       "      <th>3</th>\n",
       "      <td>1412.839966</td>\n",
       "    </tr>\n",
       "    <tr>\n",
       "      <th>4</th>\n",
       "      <td>1412.109985</td>\n",
       "    </tr>\n",
       "  </tbody>\n",
       "</table>\n",
       "</div>"
      ],
      "text/plain": [
       "         Close\n",
       "0  1416.599976\n",
       "1  1418.339966\n",
       "2  1409.709961\n",
       "3  1412.839966\n",
       "4  1412.109985"
      ]
     },
     "execution_count": 1,
     "metadata": {},
     "output_type": "execute_result"
    }
   ],
   "source": [
    "import pandas as pd\n",
    "# Train Dataset\n",
    "dataset_train = pd.read_csv(\"train.csv\")\n",
    "dataset_train['Date'] = pd.to_datetime(dataset_train['Date'])\n",
    "dataset_train = dataset_train[['Close']]\n",
    "dataset_train.head()"
   ]
  },
  {
   "cell_type": "code",
   "execution_count": 2,
   "id": "fe8d14ba",
   "metadata": {},
   "outputs": [
    {
     "data": {
      "text/html": [
       "<div>\n",
       "<style scoped>\n",
       "    .dataframe tbody tr th:only-of-type {\n",
       "        vertical-align: middle;\n",
       "    }\n",
       "\n",
       "    .dataframe tbody tr th {\n",
       "        vertical-align: top;\n",
       "    }\n",
       "\n",
       "    .dataframe thead th {\n",
       "        text-align: right;\n",
       "    }\n",
       "</style>\n",
       "<table border=\"1\" class=\"dataframe\">\n",
       "  <thead>\n",
       "    <tr style=\"text-align: right;\">\n",
       "      <th></th>\n",
       "      <th>Close</th>\n",
       "    </tr>\n",
       "  </thead>\n",
       "  <tbody>\n",
       "    <tr>\n",
       "      <th>0</th>\n",
       "      <td>2180.889893</td>\n",
       "    </tr>\n",
       "    <tr>\n",
       "      <th>1</th>\n",
       "      <td>2181.739990</td>\n",
       "    </tr>\n",
       "    <tr>\n",
       "      <th>2</th>\n",
       "      <td>2175.489990</td>\n",
       "    </tr>\n",
       "    <tr>\n",
       "      <th>3</th>\n",
       "      <td>2185.790039</td>\n",
       "    </tr>\n",
       "    <tr>\n",
       "      <th>4</th>\n",
       "      <td>2184.050049</td>\n",
       "    </tr>\n",
       "  </tbody>\n",
       "</table>\n",
       "</div>"
      ],
      "text/plain": [
       "         Close\n",
       "0  2180.889893\n",
       "1  2181.739990\n",
       "2  2175.489990\n",
       "3  2185.790039\n",
       "4  2184.050049"
      ]
     },
     "execution_count": 2,
     "metadata": {},
     "output_type": "execute_result"
    }
   ],
   "source": [
    "# val Dataset\n",
    "dataset_test = pd.read_csv(\"val.csv\")\n",
    "dataset_test['Date'] = pd.to_datetime(dataset_test['Date'])\n",
    "dataset_test = dataset_test[['Close']]\n",
    "dataset_test.head()"
   ]
  },
  {
   "cell_type": "markdown",
   "id": "5d78b9f1",
   "metadata": {},
   "source": [
    "# MinMaxNomalize on close price"
   ]
  },
  {
   "cell_type": "code",
   "execution_count": 3,
   "id": "ee1f1cd3",
   "metadata": {},
   "outputs": [],
   "source": [
    "def min_max_normalize(data):\n",
    "    min_data = data.min(axis=0)\n",
    "    max_data = data.max(axis=0)\n",
    "    normalized_data = (data - min_data) / (max_data - min_data)\n",
    "    return normalized_data"
   ]
  },
  {
   "cell_type": "code",
   "execution_count": 4,
   "id": "64064002",
   "metadata": {},
   "outputs": [
    {
     "data": {
      "text/html": [
       "<div>\n",
       "<style scoped>\n",
       "    .dataframe tbody tr th:only-of-type {\n",
       "        vertical-align: middle;\n",
       "    }\n",
       "\n",
       "    .dataframe tbody tr th {\n",
       "        vertical-align: top;\n",
       "    }\n",
       "\n",
       "    .dataframe thead th {\n",
       "        text-align: right;\n",
       "    }\n",
       "</style>\n",
       "<table border=\"1\" class=\"dataframe\">\n",
       "  <thead>\n",
       "    <tr style=\"text-align: right;\">\n",
       "      <th></th>\n",
       "      <th>Close</th>\n",
       "    </tr>\n",
       "  </thead>\n",
       "  <tbody>\n",
       "    <tr>\n",
       "      <th>0</th>\n",
       "      <td>0.491303</td>\n",
       "    </tr>\n",
       "    <tr>\n",
       "      <th>1</th>\n",
       "      <td>0.492458</td>\n",
       "    </tr>\n",
       "    <tr>\n",
       "      <th>2</th>\n",
       "      <td>0.486729</td>\n",
       "    </tr>\n",
       "    <tr>\n",
       "      <th>3</th>\n",
       "      <td>0.488807</td>\n",
       "    </tr>\n",
       "    <tr>\n",
       "      <th>4</th>\n",
       "      <td>0.488323</td>\n",
       "    </tr>\n",
       "    <tr>\n",
       "      <th>...</th>\n",
       "      <td>...</td>\n",
       "    </tr>\n",
       "    <tr>\n",
       "      <th>2411</th>\n",
       "      <td>0.992014</td>\n",
       "    </tr>\n",
       "    <tr>\n",
       "      <th>2412</th>\n",
       "      <td>0.982846</td>\n",
       "    </tr>\n",
       "    <tr>\n",
       "      <th>2413</th>\n",
       "      <td>0.987333</td>\n",
       "    </tr>\n",
       "    <tr>\n",
       "      <th>2414</th>\n",
       "      <td>0.987639</td>\n",
       "    </tr>\n",
       "    <tr>\n",
       "      <th>2415</th>\n",
       "      <td>1.000000</td>\n",
       "    </tr>\n",
       "  </tbody>\n",
       "</table>\n",
       "<p>2416 rows × 1 columns</p>\n",
       "</div>"
      ],
      "text/plain": [
       "         Close\n",
       "0     0.491303\n",
       "1     0.492458\n",
       "2     0.486729\n",
       "3     0.488807\n",
       "4     0.488323\n",
       "...        ...\n",
       "2411  0.992014\n",
       "2412  0.982846\n",
       "2413  0.987333\n",
       "2414  0.987639\n",
       "2415  1.000000\n",
       "\n",
       "[2416 rows x 1 columns]"
      ]
     },
     "execution_count": 4,
     "metadata": {},
     "output_type": "execute_result"
    }
   ],
   "source": [
    "dataset_train_normalized = min_max_normalize(dataset_train)\n",
    "dataset_train_normalized"
   ]
  },
  {
   "cell_type": "code",
   "execution_count": 5,
   "id": "8a01a0cd",
   "metadata": {},
   "outputs": [
    {
     "data": {
      "text/html": [
       "<div>\n",
       "<style scoped>\n",
       "    .dataframe tbody tr th:only-of-type {\n",
       "        vertical-align: middle;\n",
       "    }\n",
       "\n",
       "    .dataframe tbody tr th {\n",
       "        vertical-align: top;\n",
       "    }\n",
       "\n",
       "    .dataframe thead th {\n",
       "        text-align: right;\n",
       "    }\n",
       "</style>\n",
       "<table border=\"1\" class=\"dataframe\">\n",
       "  <thead>\n",
       "    <tr style=\"text-align: right;\">\n",
       "      <th></th>\n",
       "      <th>Close</th>\n",
       "    </tr>\n",
       "  </thead>\n",
       "  <tbody>\n",
       "    <tr>\n",
       "      <th>0</th>\n",
       "      <td>0.101745</td>\n",
       "    </tr>\n",
       "    <tr>\n",
       "      <th>1</th>\n",
       "      <td>0.102649</td>\n",
       "    </tr>\n",
       "    <tr>\n",
       "      <th>2</th>\n",
       "      <td>0.096005</td>\n",
       "    </tr>\n",
       "    <tr>\n",
       "      <th>3</th>\n",
       "      <td>0.106955</td>\n",
       "    </tr>\n",
       "    <tr>\n",
       "      <th>4</th>\n",
       "      <td>0.105105</td>\n",
       "    </tr>\n",
       "    <tr>\n",
       "      <th>...</th>\n",
       "      <td>...</td>\n",
       "    </tr>\n",
       "    <tr>\n",
       "      <th>801</th>\n",
       "      <td>0.936524</td>\n",
       "    </tr>\n",
       "    <tr>\n",
       "      <th>802</th>\n",
       "      <td>0.967917</td>\n",
       "    </tr>\n",
       "    <tr>\n",
       "      <th>803</th>\n",
       "      <td>0.961549</td>\n",
       "    </tr>\n",
       "    <tr>\n",
       "      <th>804</th>\n",
       "      <td>0.970330</td>\n",
       "    </tr>\n",
       "    <tr>\n",
       "      <th>805</th>\n",
       "      <td>0.957839</td>\n",
       "    </tr>\n",
       "  </tbody>\n",
       "</table>\n",
       "<p>806 rows × 1 columns</p>\n",
       "</div>"
      ],
      "text/plain": [
       "        Close\n",
       "0    0.101745\n",
       "1    0.102649\n",
       "2    0.096005\n",
       "3    0.106955\n",
       "4    0.105105\n",
       "..        ...\n",
       "801  0.936524\n",
       "802  0.967917\n",
       "803  0.961549\n",
       "804  0.970330\n",
       "805  0.957839\n",
       "\n",
       "[806 rows x 1 columns]"
      ]
     },
     "execution_count": 5,
     "metadata": {},
     "output_type": "execute_result"
    }
   ],
   "source": [
    "dataset_test_scaled = min_max_normalize(dataset_test)\n",
    "dataset_test_scaled"
   ]
  },
  {
   "cell_type": "markdown",
   "id": "0da27deb",
   "metadata": {},
   "source": [
    "# Use a window of 20 days on close price"
   ]
  },
  {
   "cell_type": "code",
   "execution_count": 6,
   "id": "55064a65",
   "metadata": {},
   "outputs": [],
   "source": [
    "window = 21"
   ]
  },
  {
   "cell_type": "code",
   "execution_count": 7,
   "id": "0af13212",
   "metadata": {},
   "outputs": [],
   "source": [
    "import numpy as np\n",
    "x_train = []\n",
    "y_train = []\n",
    "for index in range(len(dataset_train_normalized) - window):\n",
    "    need_data = dataset_train_normalized[index: index + window]\n",
    "    x_train.append(need_data.iloc[:-1])\n",
    "    y_train.append(need_data.iloc[-1])\n",
    "x_train = np.array(x_train)\n",
    "y_train = np.array(y_train)"
   ]
  },
  {
   "cell_type": "code",
   "execution_count": 8,
   "id": "f08df723",
   "metadata": {},
   "outputs": [],
   "source": [
    "x_test = []\n",
    "y_test = []\n",
    "for index in range(len(dataset_test_scaled) - window):\n",
    "    need_data = dataset_test_scaled[index: index + window]\n",
    "    x_test.append(need_data.iloc[:-1])\n",
    "    y_test.append(need_data.iloc[-1])\n",
    "x_test = np.array(x_test)\n",
    "y_test = np.array(y_test)"
   ]
  },
  {
   "cell_type": "code",
   "execution_count": 9,
   "id": "579a2e42",
   "metadata": {},
   "outputs": [
    {
     "data": {
      "text/plain": [
       "((2395, 20, 1), (2395, 1))"
      ]
     },
     "execution_count": 9,
     "metadata": {},
     "output_type": "execute_result"
    }
   ],
   "source": [
    "x_train.shape,y_train.shape"
   ]
  },
  {
   "cell_type": "code",
   "execution_count": 10,
   "id": "d5b7a9c1",
   "metadata": {},
   "outputs": [
    {
     "data": {
      "text/plain": [
       "((785, 20, 1), (785, 1))"
      ]
     },
     "execution_count": 10,
     "metadata": {},
     "output_type": "execute_result"
    }
   ],
   "source": [
    "x_test.shape, y_test.shape"
   ]
  },
  {
   "cell_type": "markdown",
   "id": "f53dc4ff",
   "metadata": {},
   "source": [
    "# Define a model: XGBoost"
   ]
  },
  {
   "cell_type": "code",
   "execution_count": 11,
   "id": "d7f608ac",
   "metadata": {},
   "outputs": [],
   "source": [
    "from sklearn.base import BaseEstimator, RegressorMixin\n",
    "\n",
    "class XGBoost_50(BaseEstimator, RegressorMixin):\n",
    "    def __init__(self, n_estimators=50, learning_rate=0.1, max_depth=2, objective='reg:squarederror'):\n",
    "        self.n_estimators = n_estimators\n",
    "        self.learning_rate = learning_rate\n",
    "        self.max_depth = max_depth\n",
    "        self.objective = objective\n",
    "        self.trees = []\n",
    "        self.feature_importances_ = None\n",
    "\n",
    "    def fit(self, X, y):\n",
    "        if not isinstance(X, np.ndarray) or not isinstance(y, np.ndarray):\n",
    "            raise ValueError(\"X and y must be numpy arrays\")\n",
    "\n",
    "        if X.ndim != 2:\n",
    "            raise ValueError(\"X must be a 2D array\")\n",
    "\n",
    "        if len(X) != len(y):\n",
    "            raise ValueError(\"Length of X and y must be the same\")\n",
    "\n",
    "        self.feature_importances_ = np.zeros(X.shape[1])\n",
    "        y_pred = np.zeros_like(y, dtype=np.float64)\n",
    "        for i in range(self.n_estimators):\n",
    "            residual = y - y_pred\n",
    "            tree = self._build_tree(X, residual, depth=0)\n",
    "            update = self.learning_rate * tree.predict(X)\n",
    "            y_pred += update\n",
    "            self.trees.append(tree)\n",
    "        self.feature_importances_ /= np.sum(self.feature_importances_)\n",
    "\n",
    "    def _build_tree(self, X, y, depth):\n",
    "        if depth >= self.max_depth or len(X) <= 1:\n",
    "            return LeafNode(self._calculate_leaf_value(y))\n",
    "\n",
    "        feature_index, threshold = self._find_best_split(X, y)\n",
    "\n",
    "        left_indices = X[:, feature_index] < threshold\n",
    "        right_indices = ~left_indices\n",
    "        left_X, left_y = X[left_indices], y[left_indices]\n",
    "        right_X, right_y = X[right_indices], y[right_indices]\n",
    "\n",
    "        left_tree = self._build_tree(left_X, left_y, depth + 1)\n",
    "        right_tree = self._build_tree(right_X, right_y, depth + 1)\n",
    "\n",
    "        return TreeNode(feature_index, threshold, left_tree, right_tree)\n",
    "\n",
    "    def _find_best_split(self, X, y):\n",
    "        best_feature_index = None\n",
    "        best_threshold = None\n",
    "        best_loss = float('inf')\n",
    "\n",
    "        for feature_index in range(X.shape[1]):\n",
    "            thresholds = np.unique(X[:, feature_index])\n",
    "            for threshold in thresholds:\n",
    "                left_indices = X[:, feature_index] < threshold\n",
    "                right_indices = ~left_indices\n",
    "\n",
    "                if len(left_indices) == 0 or len(right_indices) == 0:\n",
    "                    continue\n",
    "\n",
    "                left_y, right_y = y[left_indices], y[right_indices]\n",
    "\n",
    "                loss = self._calculate_loss(left_y, right_y)\n",
    "                if loss < best_loss:\n",
    "                    best_loss = loss\n",
    "                    best_feature_index = feature_index\n",
    "                    best_threshold = threshold\n",
    "\n",
    "        self.feature_importances_[best_feature_index] += best_loss\n",
    "\n",
    "        return best_feature_index, best_threshold\n",
    "\n",
    "    def _calculate_loss(self, left_y, right_y):\n",
    "        if self.objective == 'reg:squarederror':\n",
    "            left_loss = np.mean((left_y - np.mean(left_y)) ** 2)\n",
    "            right_loss = np.mean((right_y - np.mean(right_y)) ** 2)\n",
    "        elif self.objective == 'binary:logistic':\n",
    "            left_prob = np.mean(left_y)\n",
    "            left_loss = -left_prob * np.log(left_prob) - (1 - left_prob) * np.log(1 - left_prob)\n",
    "            right_prob = np.mean(right_y)\n",
    "            right_loss = -right_prob * np.log(right_prob) - (1 - right_prob) * np.log(1 - right_prob)\n",
    "        else:\n",
    "            raise ValueError(f\"Objective {self.objective} not supported\")\n",
    "\n",
    "        total_loss = (len(left_y) * left_loss + len(right_y) * right_loss) / (len(left_y) + len(right_y))\n",
    "\n",
    "        return total_loss\n",
    "\n",
    "    def _calculate_leaf_value(self, y):\n",
    "        if self.objective == 'reg:squarederror':\n",
    "            return np.mean(y)\n",
    "        elif self.objective == 'binary:logistic':\n",
    "            prob = np.mean(y)\n",
    "            return np.log(prob / (1 - prob))\n",
    "        else:\n",
    "            raise ValueError(f\"Objective {self.objective} not supported\")\n",
    "\n",
    "    def predict(self, X):\n",
    "        if not isinstance(X, np.ndarray):\n",
    "            raise ValueError(\"X must be a numpy array\")\n",
    "\n",
    "        if X.ndim != 2:\n",
    "            raise ValueError(\"X must be a 2D array\")\n",
    "\n",
    "        y_pred = np.zeros(len(X))\n",
    "        for tree in self.trees:\n",
    "            y_pred += self.learning_rate * tree.predict(X)\n",
    "        return y_pred\n",
    "\n",
    "class TreeNode:\n",
    "    def __init__(self, feature_index, threshold, left_tree, right_tree):\n",
    "        self.feature_index = feature_index\n",
    "        self.threshold = threshold\n",
    "        self.left_tree = left_tree\n",
    "        self.right_tree = right_tree\n",
    "\n",
    "    def predict(self, X):\n",
    "        values = np.zeros(len(X))\n",
    "        left_indices = X[:, self.feature_index] < self.threshold\n",
    "        right_indices = ~left_indices\n",
    "        values[left_indices] = self.left_tree.predict(X[left_indices])\n",
    "        values[right_indices] = self.right_tree.predict(X[right_indices])\n",
    "        return values\n",
    "\n",
    "class LeafNode:\n",
    "    def __init__(self, value):\n",
    "        self.value = value\n",
    "\n",
    "    def predict(self, X):\n",
    "        return np.full(len(X), self.value)"
   ]
  },
  {
   "cell_type": "code",
   "execution_count": 12,
   "id": "14689ab0",
   "metadata": {},
   "outputs": [],
   "source": [
    "class XGBoost_100(BaseEstimator, RegressorMixin):\n",
    "    def __init__(self, n_estimators=100, learning_rate=0.1, max_depth=3, objective='reg:squarederror'):\n",
    "        self.n_estimators = n_estimators\n",
    "        self.learning_rate = learning_rate\n",
    "        self.max_depth = max_depth\n",
    "        self.objective = objective\n",
    "        self.trees = []\n",
    "        self.feature_importances_ = None\n",
    "\n",
    "    def fit(self, X, y):\n",
    "        if not isinstance(X, np.ndarray) or not isinstance(y, np.ndarray):\n",
    "            raise ValueError(\"X and y must be numpy arrays\")\n",
    "\n",
    "        if X.ndim != 2:\n",
    "            raise ValueError(\"X must be a 2D array\")\n",
    "\n",
    "        if len(X) != len(y):\n",
    "            raise ValueError(\"Length of X and y must be the same\")\n",
    "\n",
    "        self.feature_importances_ = np.zeros(X.shape[1])\n",
    "        y_pred = np.zeros_like(y, dtype=np.float64)\n",
    "        for i in range(self.n_estimators):\n",
    "            residual = y - y_pred\n",
    "            tree = self._build_tree(X, residual, depth=0)\n",
    "            update = self.learning_rate * tree.predict(X)\n",
    "            y_pred += update\n",
    "            self.trees.append(tree)\n",
    "        self.feature_importances_ /= np.sum(self.feature_importances_)\n",
    "\n",
    "    def _build_tree(self, X, y, depth):\n",
    "        if depth >= self.max_depth or len(X) <= 1:\n",
    "            return LeafNode(self._calculate_leaf_value(y))\n",
    "\n",
    "        feature_index, threshold = self._find_best_split(X, y)\n",
    "\n",
    "        left_indices = X[:, feature_index] < threshold\n",
    "        right_indices = ~left_indices\n",
    "        left_X, left_y = X[left_indices], y[left_indices]\n",
    "        right_X, right_y = X[right_indices], y[right_indices]\n",
    "\n",
    "        left_tree = self._build_tree(left_X, left_y, depth + 1)\n",
    "        right_tree = self._build_tree(right_X, right_y, depth + 1)\n",
    "\n",
    "        return TreeNode(feature_index, threshold, left_tree, right_tree)\n",
    "\n",
    "    def _find_best_split(self, X, y):\n",
    "        best_feature_index = None\n",
    "        best_threshold = None\n",
    "        best_loss = float('inf')\n",
    "\n",
    "        for feature_index in range(X.shape[1]):\n",
    "            thresholds = np.unique(X[:, feature_index])\n",
    "            for threshold in thresholds:\n",
    "                left_indices = X[:, feature_index] < threshold\n",
    "                right_indices = ~left_indices\n",
    "\n",
    "                if len(left_indices) == 0 or len(right_indices) == 0:\n",
    "                    continue\n",
    "\n",
    "                left_y, right_y = y[left_indices], y[right_indices]\n",
    "\n",
    "                loss = self._calculate_loss(left_y, right_y)\n",
    "                if loss < best_loss:\n",
    "                    best_loss = loss\n",
    "                    best_feature_index = feature_index\n",
    "                    best_threshold = threshold\n",
    "\n",
    "        self.feature_importances_[best_feature_index] += best_loss\n",
    "\n",
    "        return best_feature_index, best_threshold\n",
    "\n",
    "    def _calculate_loss(self, left_y, right_y):\n",
    "        if self.objective == 'reg:squarederror':\n",
    "            left_loss = np.mean((left_y - np.mean(left_y)) ** 2)\n",
    "            right_loss = np.mean((right_y - np.mean(right_y)) ** 2)\n",
    "        elif self.objective == 'binary:logistic':\n",
    "            left_prob = np.mean(left_y)\n",
    "            left_loss = -left_prob * np.log(left_prob) - (1 - left_prob) * np.log(1 - left_prob)\n",
    "            right_prob = np.mean(right_y)\n",
    "            right_loss = -right_prob * np.log(right_prob) - (1 - right_prob) * np.log(1 - right_prob)\n",
    "        else:\n",
    "            raise ValueError(f\"Objective {self.objective} not supported\")\n",
    "\n",
    "        total_loss = (len(left_y) * left_loss + len(right_y) * right_loss) / (len(left_y) + len(right_y))\n",
    "\n",
    "        return total_loss\n",
    "\n",
    "    def _calculate_leaf_value(self, y):\n",
    "        if self.objective == 'reg:squarederror':\n",
    "            return np.mean(y)\n",
    "        elif self.objective == 'binary:logistic':\n",
    "            prob = np.mean(y)\n",
    "            return np.log(prob / (1 - prob))\n",
    "        else:\n",
    "            raise ValueError(f\"Objective {self.objective} not supported\")\n",
    "\n",
    "    def predict(self, X):\n",
    "        if not isinstance(X, np.ndarray):\n",
    "            raise ValueError(\"X must be a numpy array\")\n",
    "\n",
    "        if X.ndim != 2:\n",
    "            raise ValueError(\"X must be a 2D array\")\n",
    "\n",
    "        y_pred = np.zeros(len(X))\n",
    "        for tree in self.trees:\n",
    "            y_pred += self.learning_rate * tree.predict(X)\n",
    "        return y_pred\n",
    "\n",
    "class TreeNode:\n",
    "    def __init__(self, feature_index, threshold, left_tree, right_tree):\n",
    "        self.feature_index = feature_index\n",
    "        self.threshold = threshold\n",
    "        self.left_tree = left_tree\n",
    "        self.right_tree = right_tree\n",
    "\n",
    "    def predict(self, X):\n",
    "        values = np.zeros(len(X))\n",
    "        left_indices = X[:, self.feature_index] < self.threshold\n",
    "        right_indices = ~left_indices\n",
    "        values[left_indices] = self.left_tree.predict(X[left_indices])\n",
    "        values[right_indices] = self.right_tree.predict(X[right_indices])\n",
    "        return values\n",
    "\n",
    "class LeafNode:\n",
    "    def __init__(self, value):\n",
    "        self.value = value\n",
    "\n",
    "    def predict(self, X):\n",
    "        return np.full(len(X), self.value)"
   ]
  },
  {
   "cell_type": "markdown",
   "id": "4068cb42",
   "metadata": {},
   "source": [
    "# Prepare the input sequence for XGBoost model"
   ]
  },
  {
   "cell_type": "code",
   "execution_count": 13,
   "id": "ba67a056",
   "metadata": {},
   "outputs": [
    {
     "data": {
      "text/plain": [
       "array([[0.49130336, 0.49245847, 0.48672935, ..., 0.49397209, 0.49941572,\n",
       "        0.50566932],\n",
       "       [0.49245847, 0.48672935, 0.48880724, ..., 0.49941572, 0.50566932,\n",
       "        0.51078101],\n",
       "       [0.48672935, 0.48880724, 0.48832263, ..., 0.50566932, 0.51078101,\n",
       "        0.51240752],\n",
       "       ...,\n",
       "       [0.93738461, 0.94480653, 0.94359161, ..., 0.99149591, 0.993846  ,\n",
       "        0.99201374],\n",
       "       [0.94480653, 0.94359161, 0.96483516, ..., 0.993846  , 0.99201374,\n",
       "        0.98284578],\n",
       "       [0.94359161, 0.96483516, 0.96965479, ..., 0.99201374, 0.98284578,\n",
       "        0.98733349]])"
      ]
     },
     "execution_count": 13,
     "metadata": {},
     "output_type": "execute_result"
    }
   ],
   "source": [
    "# Transform x_train converted to 2D form\n",
    "x_train_2d = np.reshape(x_train, (2395, 20))\n",
    "x_train_2d"
   ]
  },
  {
   "cell_type": "code",
   "execution_count": 14,
   "id": "1102d471",
   "metadata": {},
   "outputs": [
    {
     "data": {
      "text/plain": [
       "array([0.51078101, 0.51240752, 0.5114781 , ..., 0.98284578, 0.98733349,\n",
       "       0.98763884])"
      ]
     },
     "execution_count": 14,
     "metadata": {},
     "output_type": "execute_result"
    }
   ],
   "source": [
    "# Remove excess dimensions\n",
    "y_train = np.squeeze(y_train)\n",
    "y_train = np.array(y_train)\n",
    "y_train"
   ]
  },
  {
   "cell_type": "code",
   "execution_count": 15,
   "id": "7adeb8a8",
   "metadata": {},
   "outputs": [
    {
     "data": {
      "text/plain": [
       "array([[0.10174549, 0.10264919, 0.09600506, ..., 0.09117873, 0.09108322,\n",
       "        0.10077819],\n",
       "       [0.10264919, 0.09600506, 0.10695464, ..., 0.09108322, 0.10077819,\n",
       "        0.10768809],\n",
       "       [0.09600506, 0.10695464, 0.10510492, ..., 0.10077819, 0.10768809,\n",
       "        0.10734784],\n",
       "       ...,\n",
       "       [0.97856853, 0.97966352, 0.97972736, ..., 0.90673746, 0.94090437,\n",
       "        0.93652444],\n",
       "       [0.97966352, 0.97972736, 0.96407914, ..., 0.94090437, 0.93652444,\n",
       "        0.96791665],\n",
       "       [0.97972736, 0.96407914, 0.96377081, ..., 0.93652444, 0.96791665,\n",
       "        0.96154892]])"
      ]
     },
     "execution_count": 15,
     "metadata": {},
     "output_type": "execute_result"
    }
   ],
   "source": [
    "# Transform x_train converted to 2D form\n",
    "x_test_2d = np.reshape(x_test, (x_test.shape[0], x_test.shape[1]))\n",
    "x_test_2d"
   ]
  },
  {
   "cell_type": "code",
   "execution_count": 16,
   "id": "0d0846ba",
   "metadata": {},
   "outputs": [
    {
     "data": {
      "text/plain": [
       "array([0.10768809, 0.10734784, 0.10218151, 0.04531841, 0.07851777,\n",
       "       0.04447855, 0.04314972, 0.06599488, 0.05738399, 0.05734168,\n",
       "       0.05802193, 0.08285514, 0.09780157, 0.08452396, 0.06476183,\n",
       "       0.07946378, 0.09162539, 0.07010879, 0.0883298 , 0.08081388,\n",
       "       0.06942855, 0.07925122, 0.08035684, 0.07288349, 0.08342897,\n",
       "       0.05480082, 0.05740527, 0.0503573 , 0.05081435, 0.04392574,\n",
       "       0.05785193, 0.06283762, 0.05970165, 0.05951011, 0.07032161,\n",
       "       0.06163623, 0.05767104, 0.05087819, 0.04382997, 0.04355356,\n",
       "       0.02821367, 0.01356466, 0.00369943, 0.        , 0.04926232,\n",
       "       0.05780937, 0.08300385, 0.08748994, 0.08426883, 0.08400307,\n",
       "       0.10121395, 0.09754645, 0.10836859, 0.10281919, 0.12012584,\n",
       "       0.12518602, 0.1270783 , 0.13625265, 0.12388912, 0.12701446,\n",
       "       0.12079571, 0.11257827, 0.113503  , 0.12706766, 0.1350619 ,\n",
       "       0.16601835, 0.17116339, 0.18534471, 0.18261258, 0.19830336,\n",
       "       0.17870058, 0.18800236, 0.18379269, 0.1885339 , 0.19728286,\n",
       "       0.1913509 , 0.18686482, 0.18987336, 0.19528417, 0.17512859,\n",
       "       0.17442706, 0.16333941, 0.18353756, 0.19727222, 0.19541187,\n",
       "       0.20389507, 0.19530546, 0.19530546, 0.20213048, 0.19694261,\n",
       "       0.20140741, 0.19423175, 0.198484  , 0.18976695, 0.1978676 ,\n",
       "       0.19137218, 0.20718002, 0.22663408, 0.22483731, 0.22272183,\n",
       "       0.20806218, 0.2059044 , 0.20662721, 0.20800924, 0.22562396,\n",
       "       0.22045764, 0.22101045, 0.22270055, 0.23673315, 0.24548212,\n",
       "       0.2583982 , 0.26831664, 0.28072248, 0.27856443, 0.28275283,\n",
       "       0.29786952, 0.29514828, 0.2962007 , 0.29995334, 0.30251522,\n",
       "       0.2960198 , 0.33037799, 0.31545258, 0.31672846, 0.3084259 ,\n",
       "       0.30106934, 0.29531828, 0.29732761, 0.30554504, 0.30646977,\n",
       "       0.29794401, 0.3190033 , 0.31487849, 0.31155123, 0.30646977,\n",
       "       0.27516269, 0.27987198, 0.27722497, 0.27512013, 0.27257953,\n",
       "       0.29063027, 0.29335151, 0.30071871, 0.29504187, 0.29091732,\n",
       "       0.29232037, 0.28465575, 0.28948208, 0.28740917, 0.28913119,\n",
       "       0.28553817, 0.27612998, 0.25914229, 0.28046735, 0.27321721,\n",
       "       0.26894368, 0.28772814, 0.2801271 , 0.30719258, 0.32256465,\n",
       "       0.32133134, 0.32273465, 0.31787639, 0.32226697, 0.32528589,\n",
       "       0.32205415, 0.32353195, 0.33391807, 0.33401358, 0.33139849,\n",
       "       0.33427934, 0.32876212, 0.32499885, 0.33713917, 0.33538497,\n",
       "       0.28899312, 0.29823105, 0.31525066, 0.32831572, 0.33299308,\n",
       "       0.33933952, 0.3506932 , 0.35149049, 0.34839682, 0.34721697,\n",
       "       0.36662846, 0.37620665, 0.37304939, 0.36585245, 0.36990251,\n",
       "       0.37059366, 0.36844625, 0.36591604, 0.3775674 , 0.37498397,\n",
       "       0.3691797 , 0.36991315, 0.39150398, 0.37403796, 0.3725285 ,\n",
       "       0.37134839, 0.37538807, 0.37620665, 0.35527479, 0.37792867,\n",
       "       0.35561504, 0.35955895, 0.3655122 , 0.36926483, 0.34503764,\n",
       "       0.36144059, 0.36383248, 0.36181277, 0.38065017, 0.38551907,\n",
       "       0.39768042, 0.39754209, 0.39910502, 0.41315864, 0.41275455,\n",
       "       0.41178726, 0.40899127, 0.41666654, 0.41741089, 0.41484874,\n",
       "       0.41131957, 0.40940601, 0.41583758, 0.41713448, 0.41138316,\n",
       "       0.41634783, 0.42068494, 0.41431721, 0.41336056, 0.3752923 ,\n",
       "       0.37859854, 0.4046648 , 0.40335726, 0.40707797, 0.36657526,\n",
       "       0.36183405, 0.36483195, 0.39049412, 0.38149003, 0.37610024,\n",
       "       0.38043761, 0.38170259, 0.38389256, 0.39589455, 0.41084099,\n",
       "       0.41605014, 0.39617096, 0.40434583, 0.40387815, 0.39997654,\n",
       "       0.42833918, 0.43723686, 0.43924619, 0.43632278, 0.44122334,\n",
       "       0.44509303, 0.44804811, 0.44973847, 0.4416168 , 0.44333882,\n",
       "       0.43742814, 0.43761968, 0.44846284, 0.45167331, 0.46155982,\n",
       "       0.4719353 , 0.47773957, 0.48109875, 0.49633249, 0.49341972,\n",
       "       0.48852953, 0.49481213, 0.49970231, 0.49512046, 0.4975017 ,\n",
       "       0.50225355, 0.50408225, 0.50610196, 0.50699502, 0.5209316 ,\n",
       "       0.51005651, 0.51446811, 0.50173266, 0.50518761, 0.52716125,\n",
       "       0.51840164, 0.52098481, 0.52534346, 0.52586435, 0.53435819,\n",
       "       0.53785544, 0.53733455, 0.54131039, 0.53093517, 0.52846879,\n",
       "       0.53116901, 0.52482257, 0.50967395, 0.53201925, 0.52480129,\n",
       "       0.52829854, 0.54625378, 0.54418086, 0.54985744, 0.54879438,\n",
       "       0.57603011, 0.57499897, 0.59786542, 0.5921673 , 0.58921196,\n",
       "       0.57871969, 0.57840072, 0.58659687, 0.60203253, 0.61105791,\n",
       "       0.61543784, 0.61409837, 0.6025747 , 0.6278756 , 0.64313036,\n",
       "       0.63389243, 0.63153246, 0.63718802, 0.63588047, 0.63286129,\n",
       "       0.6351151 , 0.64034528, 0.62553692, 0.64913681, 0.6674746 ,\n",
       "       0.67909378, 0.69946193, 0.70430955, 0.70811539, 0.70486236,\n",
       "       0.7254114 , 0.7452693 , 0.73482998, 0.76261852, 0.75780283,\n",
       "       0.7708466 , 0.7949461 , 0.80149446, 0.79980436, 0.80162215,\n",
       "       0.83736237, 0.81680269, 0.7837414 , 0.78520856, 0.78326308,\n",
       "       0.7196388 , 0.59931104, 0.64842438, 0.63409435, 0.52708676,\n",
       "       0.5680678 , 0.6068163 , 0.61419388, 0.65213445, 0.68675841,\n",
       "       0.68784275, 0.67087634, 0.65500492, 0.65780065, 0.70387379,\n",
       "       0.73821069, 0.70066332, 0.66829318, 0.62985274, 0.64428919,\n",
       "       0.6758514 , 0.68348436, 0.68208104, 0.69501841, 0.7456202 ,\n",
       "       0.74184628, 0.72301952, 0.70619119, 0.70390571, 0.70888076,\n",
       "       0.66732563, 0.67159915, 0.66627321, 0.59372997, 0.53480459,\n",
       "       0.60952716, 0.56070086, 0.55260022, 0.59073232, 0.52802213,\n",
       "       0.56264609, 0.59479303, 0.61408773, 0.55203676, 0.5612747 ,\n",
       "       0.60774129, 0.59213538, 0.61531015, 0.60713527, 0.63003364,\n",
       "       0.66038381, 0.6627757 , 0.64628762, 0.62184787, 0.62200748,\n",
       "       0.58402435, 0.5891694 , 0.61844613, 0.62160338, 0.59836503,\n",
       "       0.60554068, 0.5852042 , 0.57888968, 0.61470413, 0.62449488,\n",
       "       0.62374015, 0.65124165, 0.67811585, 0.68305898, 0.68562086,\n",
       "       0.66576296, 0.67746727, 0.67499025, 0.66737883, 0.68868261,\n",
       "       0.67957211, 0.6889803 , 0.68310154, 0.67626613, 0.64281165,\n",
       "       0.67911506, 0.65919332, 0.69039425, 0.70341674, 0.70546838,\n",
       "       0.73050351, 0.72839867, 0.73760468, 0.74076194, 0.74591788,\n",
       "       0.73399012, 0.74128283, 0.73827428, 0.73199169, 0.72012802,\n",
       "       0.72515628, 0.70648887, 0.71193161, 0.67173749, 0.67810521,\n",
       "       0.65319751, 0.67092955, 0.67311952, 0.68198528, 0.6676446 ,\n",
       "       0.69250973, 0.71718333, 0.74306869, 0.75334867, 0.73227873,\n",
       "       0.75807923, 0.7612897 , 0.75822795, 0.77004931, 0.77650216,\n",
       "       0.76467016, 0.76184251, 0.76731717, 0.78158336, 0.8088723 ,\n",
       "       0.79969795, 0.7799039 , 0.76266109, 0.77721432, 0.77409963,\n",
       "       0.7888335 , 0.80279162, 0.81347518, 0.82203286, 0.82123557,\n",
       "       0.81685589, 0.79527571, 0.78320987, 0.80237689, 0.77942557,\n",
       "       0.8031529 , 0.81318813, 0.82054468, 0.82682728, 0.8256155 ,\n",
       "       0.8204702 , 0.83929696, 0.8627375 , 0.86356671, 0.88112849,\n",
       "       0.86740422, 0.86781896, 0.86271621, 0.8540843 , 0.84286896,\n",
       "       0.83609714, 0.84189076, 0.85332931, 0.85442429, 0.8706466 ,\n",
       "       0.8714971 , 0.85429686, 0.87078494, 0.87465436, 0.8988922 ,\n",
       "       0.89774401, 0.88679469, 0.88274437, 0.87254952, 0.88108593,\n",
       "       0.88106465, 0.89234384, 0.89111052, 0.89332177, 0.86791472,\n",
       "       0.85086319, 0.84965116, 0.84530341, 0.74467393, 0.68375012,\n",
       "       0.7249541 , 0.70758386, 0.7704425 , 0.76968777, 0.72670831,\n",
       "       0.72564525, 0.71299467, 0.69684684, 0.60692271, 0.65951229,\n",
       "       0.60967588, 0.59113616, 0.63512548, 0.66607129, 0.69650685,\n",
       "       0.67810521, 0.69431688, 0.71253763, 0.77466282, 0.76715781,\n",
       "       0.73970952, 0.68146439, 0.67716958, 0.65527069, 0.68569535,\n",
       "       0.6921482 , 0.64373638, 0.59181641, 0.60036345, 0.58189823,\n",
       "       0.62536666, 0.63463652, 0.70014243, 0.69377471, 0.71755524,\n",
       "       0.74965988, 0.65365482, 0.64928552, 0.58245104, 0.58738353,\n",
       "       0.58638431, 0.60157549, 0.60101204, 0.54723171, 0.4898158 ,\n",
       "       0.49004964, 0.44837772, 0.40634426, 0.35234099, 0.28268924,\n",
       "       0.40664195, 0.42910455, 0.4258196 , 0.44826093, 0.45164139,\n",
       "       0.38558266, 0.47493295, 0.49380227, 0.5200811 , 0.53129644,\n",
       "       0.54371292, 0.54330908, 0.5287984 , 0.55823449, 0.56440029,\n",
       "       0.58551253, 0.62245388, 0.5822595 , 0.58842531, 0.59228435,\n",
       "       0.61612873, 0.59390022, 0.58980734, 0.63344602, 0.65794962,\n",
       "       0.66053279, 0.68002941, 0.6936683 , 0.68719443, 0.66002254,\n",
       "       0.66196776, 0.66400902, 0.70114165, 0.7099651 , 0.70220471,\n",
       "       0.73395845, 0.73838069, 0.74363215, 0.73319282, 0.75210471,\n",
       "       0.75576183, 0.75341225, 0.75179638, 0.74340895, 0.76381966,\n",
       "       0.75225368, 0.74889425, 0.7295466 , 0.70560645, 0.69937706,\n",
       "       0.74214397, 0.75088229, 0.77150556, 0.76891176, 0.78379461,\n",
       "       0.79491418, 0.79452098, 0.78565496, 0.81823767, 0.76065176,\n",
       "       0.75815372, 0.77952108, 0.76560579, 0.77631062, 0.79646621,\n",
       "       0.831324  , 0.83137721, 0.83792557, 0.84429329, 0.85848525,\n",
       "       0.86170636, 0.84302831, 0.85366956, 0.85378661, 0.87408027,\n",
       "       0.87213504, 0.87370835, 0.86668141, 0.87155031, 0.87467564,\n",
       "       0.90200689, 0.89517148, 0.89402329, 0.90859781, 0.91194661,\n",
       "       0.91492323, 0.89142949, 0.88482792, 0.91472105, 0.90072063,\n",
       "       0.84924732, 0.84432521, 0.83507664, 0.84643005, 0.77251568,\n",
       "       0.79647685, 0.81407055, 0.84102988, 0.82318105, 0.80266393,\n",
       "       0.82831572, 0.81971547, 0.78353948, 0.78760045, 0.76243763,\n",
       "       0.74184628, 0.74805465, 0.70893397, 0.70084396, 0.76337326,\n",
       "       0.78769596, 0.80612952, 0.83786198, 0.85209625, 0.85102255,\n",
       "       0.84477188, 0.85731578, 0.85236201, 0.85522158, 0.88507241,\n",
       "       0.89433162, 0.92379963, 0.91984508, 0.91441298, 0.88467895,\n",
       "       0.88085209, 0.89269447, 0.9105965 , 0.93458985, 0.94381715,\n",
       "       0.96806562, 0.9623143 , 0.94694248, 0.95085447, 0.9651422 ,\n",
       "       0.97241337, 0.9871475 , 0.98771096, 0.97680395, 0.95594657,\n",
       "       0.96731089, 0.94764427, 0.95659515, 0.97832405, 0.99330267,\n",
       "       0.97641049, 1.        , 0.99480149, 0.98652021, 0.95165177,\n",
       "       0.92314067, 0.90027423, 0.80745835, 0.84682351, 0.84917283,\n",
       "       0.90669515, 0.88602906, 0.84781208, 0.89418291, 0.80305739,\n",
       "       0.81049881, 0.85416916, 0.89134436, 0.86674525, 0.89217358,\n",
       "       0.89060027, 0.80997792, 0.84321959, 0.8334182 , 0.85338251,\n",
       "       0.89233319, 0.89433162, 0.87286849, 0.90636554, 0.94699569,\n",
       "       0.94987654, 0.94957885, 0.95059935, 0.97349771, 0.9826827 ,\n",
       "       0.98036504, 0.97034045, 0.97856853, 0.97966352, 0.97972736,\n",
       "       0.96407914, 0.96377081, 0.93700302, 0.95642516, 0.94871797,\n",
       "       0.93188964, 0.94778234, 0.90899127, 0.85303188, 0.87750329,\n",
       "       0.92149287, 0.90743924, 0.8588255 , 0.88682635, 0.90673746,\n",
       "       0.94090437, 0.93652444, 0.96791665, 0.96154892, 0.97032981])"
      ]
     },
     "execution_count": 16,
     "metadata": {},
     "output_type": "execute_result"
    }
   ],
   "source": [
    "# Remove excess dimensions\n",
    "y_test = np.squeeze(y_test)\n",
    "y_test = np.array(y_test)\n",
    "y_test"
   ]
  },
  {
   "cell_type": "markdown",
   "id": "d5e6c6dd",
   "metadata": {},
   "source": [
    "# Train the model"
   ]
  },
  {
   "cell_type": "markdown",
   "id": "33bb5b9e",
   "metadata": {},
   "source": [
    "## Based on train dataset"
   ]
  },
  {
   "cell_type": "code",
   "execution_count": 17,
   "id": "d799be01",
   "metadata": {},
   "outputs": [
    {
     "name": "stderr",
     "output_type": "stream",
     "text": [
      "C:\\Users\\may\\AppData\\Roaming\\Python\\Python39\\site-packages\\numpy\\core\\fromnumeric.py:3504: RuntimeWarning: Mean of empty slice.\n",
      "  return _methods._mean(a, axis=axis, dtype=dtype,\n",
      "C:\\Users\\may\\AppData\\Roaming\\Python\\Python39\\site-packages\\numpy\\core\\_methods.py:129: RuntimeWarning: invalid value encountered in scalar divide\n",
      "  ret = ret.dtype.type(ret / rcount)\n"
     ]
    }
   ],
   "source": [
    "xgb_train_model = XGBoost_50(n_estimators=50, learning_rate=0.1, max_depth=2, objective='reg:squarederror')\n",
    "\n",
    "xgb_train_model.fit(x_train_2d, y_train)"
   ]
  },
  {
   "cell_type": "code",
   "execution_count": 18,
   "id": "385bd492",
   "metadata": {},
   "outputs": [
    {
     "data": {
      "text/plain": [
       "['xgb_train_model.joblib']"
      ]
     },
     "execution_count": 18,
     "metadata": {},
     "output_type": "execute_result"
    }
   ],
   "source": [
    "from joblib import dump\n",
    "\n",
    "# 假设模型对象为model\n",
    "dump(xgb_train_model, 'xgb_train_model.joblib')"
   ]
  },
  {
   "cell_type": "code",
   "execution_count": 19,
   "id": "d3d824d7",
   "metadata": {},
   "outputs": [],
   "source": [
    "from joblib import load\n",
    "\n",
    "xgb_train_model = load('xgb_train_model.joblib')"
   ]
  },
  {
   "cell_type": "code",
   "execution_count": 20,
   "id": "eb689eb3",
   "metadata": {},
   "outputs": [
    {
     "data": {
      "text/plain": [
       "array([0.50695605, 0.50695605, 0.50695605, ..., 0.96537311, 0.96537311,\n",
       "       0.96537311])"
      ]
     },
     "execution_count": 20,
     "metadata": {},
     "output_type": "execute_result"
    }
   ],
   "source": [
    "# 预测\n",
    "y_train_pred = xgb_train_model.predict(x_train_2d)\n",
    "y_train_pred"
   ]
  },
  {
   "cell_type": "markdown",
   "id": "cd4e4ea4",
   "metadata": {},
   "source": [
    "## Based on test dataset"
   ]
  },
  {
   "cell_type": "code",
   "execution_count": 22,
   "id": "6b2ecf5d",
   "metadata": {},
   "outputs": [],
   "source": [
    "xgb_test_model = XGBoost_100(n_estimators=100, learning_rate=0.1, max_depth=3, objective='reg:squarederror')\n",
    "\n",
    "xgb_test_model.fit(x_test_2d, y_test)"
   ]
  },
  {
   "cell_type": "code",
   "execution_count": 23,
   "id": "49df5c09",
   "metadata": {},
   "outputs": [
    {
     "data": {
      "text/plain": [
       "['xgb_test_model.joblib']"
      ]
     },
     "execution_count": 23,
     "metadata": {},
     "output_type": "execute_result"
    }
   ],
   "source": [
    "dump(xgb_test_model, 'xgb_test_model.joblib')"
   ]
  },
  {
   "cell_type": "code",
   "execution_count": 24,
   "id": "18e3981b",
   "metadata": {},
   "outputs": [],
   "source": [
    "xgb_test_model = load('xgb_test_model.joblib')"
   ]
  },
  {
   "cell_type": "code",
   "execution_count": 25,
   "id": "ec80cc7f",
   "metadata": {},
   "outputs": [
    {
     "data": {
      "text/plain": [
       "array([0.09880395, 0.10877304, 0.11014416, 0.07329475, 0.06802803,\n",
       "       0.06180239, 0.05271107, 0.0558671 , 0.06042196, 0.05637968,\n",
       "       0.05830135, 0.07944044, 0.08993717, 0.08312646, 0.07679133,\n",
       "       0.07611177, 0.0819206 , 0.07112011, 0.08153116, 0.07939506,\n",
       "       0.07640617, 0.07688586, 0.07632605, 0.07219275, 0.07502751,\n",
       "       0.07217311, 0.06054837, 0.05682591, 0.05550868, 0.05550868,\n",
       "       0.05153101, 0.06311657, 0.06618678, 0.06618678, 0.06618678,\n",
       "       0.0668965 , 0.0638633 , 0.05262007, 0.0491348 , 0.04707581,\n",
       "       0.03501601, 0.01950229, 0.01561478, 0.01561478, 0.04118771,\n",
       "       0.05876042, 0.07445308, 0.08088052, 0.08358191, 0.08334753,\n",
       "       0.09273836, 0.09611979, 0.09713517, 0.10638178, 0.11633503,\n",
       "       0.12045172, 0.12355754, 0.13126942, 0.12850581, 0.12156803,\n",
       "       0.12229444, 0.12156803, 0.1157228 , 0.12950714, 0.13640847,\n",
       "       0.16979897, 0.16979897, 0.17876484, 0.18484284, 0.18682777,\n",
       "       0.18589344, 0.18653574, 0.18589344, 0.18589344, 0.19608492,\n",
       "       0.19120497, 0.19184727, 0.19120497, 0.19120497, 0.18589344,\n",
       "       0.17902927, 0.17817026, 0.18836175, 0.19822138, 0.19608492,\n",
       "       0.19897856, 0.19694394, 0.19811954, 0.20106859, 0.19833625,\n",
       "       0.20010774, 0.19747724, 0.20010774, 0.19807312, 0.19957444,\n",
       "       0.19694394, 0.20131713, 0.22281268, 0.22108921, 0.21791961,\n",
       "       0.21311019, 0.21311019, 0.20808966, 0.20776309, 0.22140026,\n",
       "       0.21833353, 0.21907767, 0.22007621, 0.23797137, 0.2444621 ,\n",
       "       0.25835753, 0.26987998, 0.26987998, 0.27984351, 0.2781722 ,\n",
       "       0.293569  , 0.29947335, 0.29514937, 0.3000675 , 0.3000675 ,\n",
       "       0.3000675 , 0.30434282, 0.31445154, 0.31616788, 0.31828944,\n",
       "       0.30826664, 0.30159209, 0.30144847, 0.3077582 , 0.3062336 ,\n",
       "       0.3000675 , 0.30159209, 0.31445154, 0.31278299, 0.31110564,\n",
       "       0.30159209, 0.28123695, 0.28447129, 0.27752626, 0.27825295,\n",
       "       0.28282929, 0.29494555, 0.29685273, 0.29947335, 0.29440371,\n",
       "       0.29370199, 0.29217739, 0.29217739, 0.29217739, 0.29364975,\n",
       "       0.2944749 , 0.29217739, 0.27678059, 0.27752626, 0.27919757,\n",
       "       0.27752626, 0.2781722 , 0.28527678, 0.28813573, 0.3061479 ,\n",
       "       0.31292694, 0.31769248, 0.31769248, 0.31769248, 0.31769248,\n",
       "       0.32385858, 0.32385858, 0.32769648, 0.32385858, 0.32385858,\n",
       "       0.32769648, 0.32769648, 0.32769648, 0.33317088, 0.3346142 ,\n",
       "       0.32385858, 0.31301548, 0.31456763, 0.32375014, 0.33569718,\n",
       "       0.33962908, 0.33924011, 0.340873  , 0.34703911, 0.3442391 ,\n",
       "       0.35251351, 0.37166691, 0.36983888, 0.36699988, 0.36602791,\n",
       "       0.36746228, 0.37030127, 0.3693293 , 0.37094022, 0.36798179,\n",
       "       0.36870848, 0.36838636, 0.37263888, 0.3961201 , 0.37263888,\n",
       "       0.37263888, 0.37822782, 0.37263888, 0.37364424, 0.37166691,\n",
       "       0.37263888, 0.37166691, 0.37166691, 0.37166691, 0.37166691,\n",
       "       0.35251351, 0.37166691, 0.37166691, 0.37166691, 0.38156807,\n",
       "       0.39264667, 0.3961201 , 0.40170903, 0.40170903, 0.40828161,\n",
       "       0.40828161, 0.40828161, 0.40828161, 0.41735924, 0.41735924,\n",
       "       0.40939649, 0.40828161, 0.41555292, 0.41555292, 0.41735924,\n",
       "       0.40901496, 0.41697771, 0.41735924, 0.41628627, 0.40518668,\n",
       "       0.3865045 , 0.39543369, 0.40309592, 0.39750699, 0.39423529,\n",
       "       0.37725585, 0.37725585, 0.3782612 , 0.39712545, 0.38257343,\n",
       "       0.37263888, 0.38715701, 0.38715701, 0.39365203, 0.40271439,\n",
       "       0.40727625, 0.40727625, 0.40271439, 0.40271439, 0.40271439,\n",
       "       0.40998571, 0.4340338 , 0.43476715, 0.43476715, 0.43476715,\n",
       "       0.44203847, 0.44203847, 0.44203847, 0.44203847, 0.44541014,\n",
       "       0.44203847, 0.44203847, 0.44203847, 0.44203847, 0.45995201,\n",
       "       0.47025847, 0.47372333, 0.48433641, 0.48433641, 0.49927067,\n",
       "       0.48609635, 0.48433641, 0.49927067, 0.49927067, 0.49927067,\n",
       "       0.49927067, 0.49927067, 0.49927067, 0.51585419, 0.51585419,\n",
       "       0.51585419, 0.52358696, 0.51585419, 0.50700344, 0.51585419,\n",
       "       0.52899815, 0.52358696, 0.52358696, 0.52358696, 0.53673092,\n",
       "       0.53673092, 0.53673092, 0.53673092, 0.53673092, 0.53673092,\n",
       "       0.53673092, 0.53673092, 0.52358696, 0.52358696, 0.52899815,\n",
       "       0.52358696, 0.53673092, 0.53673092, 0.53673092, 0.55489691,\n",
       "       0.55949341, 0.58086766, 0.59143638, 0.59450756, 0.59450756,\n",
       "       0.59450756, 0.59450756, 0.59450756, 0.59450756, 0.60219956,\n",
       "       0.60219956, 0.61240122, 0.60759343, 0.60678581, 0.63420843,\n",
       "       0.6423444 , 0.63340081, 0.63504148, 0.64649384, 0.64649384,\n",
       "       0.63504148, 0.64837214, 0.64649384, 0.63504148, 0.64837214,\n",
       "       0.67045893, 0.68262187, 0.70258879, 0.71390315, 0.71390315,\n",
       "       0.71448218, 0.72481664, 0.73216374, 0.73310184, 0.7594361 ,\n",
       "       0.76456013, 0.77940745, 0.79133856, 0.80680916, 0.80680916,\n",
       "       0.80679458, 0.82436331, 0.80993799, 0.78082334, 0.77870309,\n",
       "       0.76679166, 0.66415165, 0.6255465 , 0.64934296, 0.57494174,\n",
       "       0.5784484 , 0.60416765, 0.60922363, 0.63094411, 0.68073161,\n",
       "       0.68806559, 0.68385385, 0.67002759, 0.66739609, 0.68069957,\n",
       "       0.72064056, 0.71335843, 0.68436251, 0.65804151, 0.6326203 ,\n",
       "       0.64525254, 0.67197607, 0.68042669, 0.68430726, 0.70540131,\n",
       "       0.73252282, 0.73252282, 0.71551266, 0.70950875, 0.71520007,\n",
       "       0.71214299, 0.67469099, 0.66776841, 0.63133188, 0.57263157,\n",
       "       0.56304824, 0.57742869, 0.57376015, 0.58473721, 0.57008292,\n",
       "       0.56956266, 0.59781399, 0.60011147, 0.58448255, 0.57542445,\n",
       "       0.60497209, 0.59791428, 0.59433465, 0.60736903, 0.60372277,\n",
       "       0.63214764, 0.66328872, 0.65859401, 0.64074081, 0.61576478,\n",
       "       0.61428232, 0.59972148, 0.6011553 , 0.61090276, 0.60973372,\n",
       "       0.60339269, 0.60776366, 0.59242801, 0.59889257, 0.60816794,\n",
       "       0.62881455, 0.63596528, 0.66827633, 0.68262187, 0.68279013,\n",
       "       0.67494132, 0.66155028, 0.66888116, 0.66800357, 0.67120622,\n",
       "       0.68320089, 0.68430726, 0.68430726, 0.68430726, 0.67214433,\n",
       "       0.65280708, 0.684139  , 0.67091623, 0.684139  , 0.71542028,\n",
       "       0.71820714, 0.72457972, 0.72429108, 0.73070006, 0.73290399,\n",
       "       0.73288163, 0.73106801, 0.73290399, 0.73288163, 0.72078133,\n",
       "       0.71623055, 0.71147735, 0.71276764, 0.70991648, 0.6709693 ,\n",
       "       0.66923115, 0.67022153, 0.67128137, 0.67613043, 0.68829337,\n",
       "       0.67726737, 0.70377854, 0.72054332, 0.73622573, 0.74958155,\n",
       "       0.73163817, 0.76309646, 0.76270768, 0.76309646, 0.77588165,\n",
       "       0.77280179, 0.76169816, 0.75846164, 0.76413058, 0.77514493,\n",
       "       0.80545411, 0.80109944, 0.77856188, 0.76722414, 0.78054176,\n",
       "       0.77978131, 0.79367253, 0.8169371 , 0.81672888, 0.82157046,\n",
       "       0.82096781, 0.81469825, 0.79487298, 0.78472841, 0.80388724,\n",
       "       0.78472841, 0.81343426, 0.81747622, 0.81879249, 0.82422066,\n",
       "       0.82096781, 0.82681798, 0.8358693 , 0.858635  , 0.86704956,\n",
       "       0.88009736, 0.86886059, 0.86579185, 0.86700002, 0.86847547,\n",
       "       0.84197423, 0.83781122, 0.83961203, 0.8605066 , 0.87515582,\n",
       "       0.87696685, 0.87337677, 0.87337677, 0.87175432, 0.88047951,\n",
       "       0.88009658, 0.88050743, 0.88440022, 0.88385473, 0.87894072,\n",
       "       0.8816677 , 0.89137666, 0.89137666, 0.88925653, 0.88005589,\n",
       "       0.86167006, 0.86263066, 0.85469482, 0.79508209, 0.72041683,\n",
       "       0.69789045, 0.71975611, 0.73316657, 0.77356427, 0.7582167 ,\n",
       "       0.7189658 , 0.7187347 , 0.71146365, 0.63901359, 0.63307976,\n",
       "       0.62742746, 0.60924407, 0.62401392, 0.66042143, 0.68273876,\n",
       "       0.69085972, 0.68077713, 0.69874366, 0.72612652, 0.7786549 ,\n",
       "       0.75036757, 0.71209924, 0.67459219, 0.665562  , 0.67069601,\n",
       "       0.67885202, 0.6766873 , 0.62213555, 0.59797728, 0.59490591,\n",
       "       0.60012456, 0.63043303, 0.66550177, 0.70247399, 0.70703041,\n",
       "       0.72172624, 0.69861813, 0.65912866, 0.62610396, 0.59848296,\n",
       "       0.60062152, 0.59129027, 0.59658654, 0.58070633, 0.52662677,\n",
       "       0.49299296, 0.47172164, 0.42461093, 0.378678  , 0.3173501 ,\n",
       "       0.38686124, 0.42011199, 0.42836582, 0.43720568, 0.44079867,\n",
       "       0.41197918, 0.44525627, 0.48346192, 0.50335914, 0.51994266,\n",
       "       0.53347904, 0.53758571, 0.5352876 , 0.53673092, 0.56059866,\n",
       "       0.58889803, 0.59143638, 0.60178584, 0.59221006, 0.59990144,\n",
       "       0.59450756, 0.60558372, 0.59450756, 0.60354596, 0.63346834,\n",
       "       0.66276627, 0.66845628, 0.6830254 , 0.6933097 , 0.67958748,\n",
       "       0.66619644, 0.66816918, 0.67238369, 0.71337371, 0.71542028,\n",
       "       0.71542028, 0.73310184, 0.73310184, 0.73310184, 0.7343453 ,\n",
       "       0.75245782, 0.75401784, 0.75401784, 0.7508489 , 0.73129508,\n",
       "       0.76169816, 0.74817294, 0.73288163, 0.71988549, 0.70955102,\n",
       "       0.70794331, 0.73661421, 0.75208019, 0.77888665, 0.76714011,\n",
       "       0.7853276 , 0.79449954, 0.79887042, 0.79775859, 0.80064949,\n",
       "       0.76660745, 0.76680628, 0.7800174 , 0.76186448, 0.77793059,\n",
       "       0.79968197, 0.82900264, 0.83008267, 0.8322037 , 0.83001913,\n",
       "       0.858635  , 0.86684134, 0.84124466, 0.8604831 , 0.86708663,\n",
       "       0.87986507, 0.87346286, 0.88277609, 0.87474849, 0.87776454,\n",
       "       0.88820362, 0.89671944, 0.88820362, 0.89209641, 0.91153264,\n",
       "       0.91405242, 0.90681894, 0.88803596, 0.89526944, 0.90495009,\n",
       "       0.87611905, 0.8669147 , 0.83564418, 0.82902233, 0.80683201,\n",
       "       0.78964997, 0.81156388, 0.8197762 , 0.82817129, 0.81404055,\n",
       "       0.81579842, 0.81596171, 0.80682752, 0.78249999, 0.78466455,\n",
       "       0.75881341, 0.73139283, 0.73377378, 0.7183715 , 0.72775911,\n",
       "       0.78064761, 0.80049366, 0.81781263, 0.8358693 , 0.85725455,\n",
       "       0.86007986, 0.83984497, 0.85833822, 0.86233193, 0.87491246,\n",
       "       0.88565593, 0.88940749, 0.91948471, 0.89993702, 0.89993702,\n",
       "       0.89155729, 0.89209641, 0.89571854, 0.91345317, 0.95373867,\n",
       "       0.95638537, 0.96575183, 0.96109743, 0.95062214, 0.96290079,\n",
       "       0.96308358, 0.98082615, 0.98164577, 0.97386725, 0.96770574,\n",
       "       0.95906653, 0.95719471, 0.94968478, 0.96031124, 0.98174095,\n",
       "       0.97626777, 0.98326879, 0.98433891, 0.98007611, 0.95081807,\n",
       "       0.92703543, 0.90376723, 0.8209999 , 0.84281719, 0.85842446,\n",
       "       0.89344979, 0.89248502, 0.85226409, 0.88725557, 0.81577148,\n",
       "       0.81750829, 0.84032181, 0.88466361, 0.87601541, 0.88649682,\n",
       "       0.89176712, 0.82163299, 0.8338931 , 0.83841743, 0.83868433,\n",
       "       0.86973565, 0.88468673, 0.88009658, 0.88210413, 0.91875872,\n",
       "       0.93790087, 0.95700833, 0.95527465, 0.95501581, 0.97526886,\n",
       "       0.97489186, 0.97399102, 0.97577925, 0.97801147, 0.9761083 ,\n",
       "       0.97205052, 0.96308358, 0.9522246 , 0.94958204, 0.95655237,\n",
       "       0.94843067, 0.94921693, 0.91633047, 0.86866443, 0.87777509,\n",
       "       0.89787604, 0.90932775, 0.86596675, 0.88843496, 0.9020425 ,\n",
       "       0.92161791, 0.94244723, 0.95544832, 0.96509122, 0.96435839])"
      ]
     },
     "execution_count": 25,
     "metadata": {},
     "output_type": "execute_result"
    }
   ],
   "source": [
    "y_test_pred = xgb_test_model.predict(x_test_2d)\n",
    "y_test_pred"
   ]
  },
  {
   "cell_type": "markdown",
   "id": "5f73c065",
   "metadata": {},
   "source": [
    "# Evaluate the model"
   ]
  },
  {
   "cell_type": "code",
   "execution_count": 26,
   "id": "fd19b807",
   "metadata": {},
   "outputs": [
    {
     "name": "stdout",
     "output_type": "stream",
     "text": [
      "Mean Squared Error (MSE): 0.00012979651863143327\n",
      "Root Mean Squared Error (RMSE): 0.011392827508192743\n",
      "Mean Absolute Error (MAE): 0.008681477709034041\n",
      "R-squared (R²): 0.9979372979721022\n"
     ]
    }
   ],
   "source": [
    "from sklearn.metrics import mean_squared_error, mean_absolute_error, r2_score\n",
    "\n",
    "# 计算预测误差的平方\n",
    "squared_errors = (y_train - y_train_pred) ** 2\n",
    "\n",
    "# 计算均方误差\n",
    "mse = np.mean(squared_errors)\n",
    "print(\"Mean Squared Error (MSE):\", mse)\n",
    "\n",
    "# 计算均方根误差（RMSE）\n",
    "rmse = np.sqrt(mse)\n",
    "print(\"Root Mean Squared Error (RMSE):\", rmse)\n",
    "\n",
    "# 计算平均绝对误差（MAE）\n",
    "mae = mean_absolute_error(y_train, y_train_pred)\n",
    "print(\"Mean Absolute Error (MAE):\", mae)\n",
    "\n",
    "# 计算决定系数（R²）\n",
    "r2 = r2_score(y_train, y_train_pred)\n",
    "print(\"R-squared (R²):\", r2)"
   ]
  },
  {
   "cell_type": "code",
   "execution_count": 27,
   "id": "c2cd3920",
   "metadata": {},
   "outputs": [
    {
     "name": "stdout",
     "output_type": "stream",
     "text": [
      "Mean Squared Error (MSE): 0.00018907576488351143\n",
      "Root Mean Squared Error (RMSE): 0.013750482350939964\n",
      "Mean Absolute Error (MAE): 0.010000018105281255\n",
      "R-squared (R²): 0.9972389329770913\n"
     ]
    }
   ],
   "source": [
    "# Calculate the square of prediction error\n",
    "squared_errors_test = (y_test - y_test_pred) ** 2\n",
    "\n",
    "# Calculate mean square error\n",
    "mse_test = np.mean(squared_errors_test)\n",
    "print(\"Mean Squared Error (MSE):\", mse_test)\n",
    "\n",
    "# Calculate root mean square error（RMSE）\n",
    "rmse_test = np.sqrt(mse_test)\n",
    "print(\"Root Mean Squared Error (RMSE):\", rmse_test)\n",
    "\n",
    "# Calculate the average absolute error（MAE）\n",
    "mae_test = mean_absolute_error(y_test, y_test_pred)\n",
    "print(\"Mean Absolute Error (MAE):\", mae_test)\n",
    "\n",
    "# Calculate the coefficient of determination（R²）\n",
    "r2_test = r2_score(y_test, y_test_pred)\n",
    "print(\"R-squared (R²):\", r2_test)"
   ]
  },
  {
   "cell_type": "markdown",
   "id": "87af704e",
   "metadata": {},
   "source": [
    "# XGBoost model of train dataset to predict val dataset"
   ]
  },
  {
   "cell_type": "code",
   "execution_count": 28,
   "id": "b23faa1d",
   "metadata": {},
   "outputs": [
    {
     "data": {
      "text/html": [
       "<div>\n",
       "<style scoped>\n",
       "    .dataframe tbody tr th:only-of-type {\n",
       "        vertical-align: middle;\n",
       "    }\n",
       "\n",
       "    .dataframe tbody tr th {\n",
       "        vertical-align: top;\n",
       "    }\n",
       "\n",
       "    .dataframe thead th {\n",
       "        text-align: right;\n",
       "    }\n",
       "</style>\n",
       "<table border=\"1\" class=\"dataframe\">\n",
       "  <thead>\n",
       "    <tr style=\"text-align: right;\">\n",
       "      <th></th>\n",
       "      <th>Close</th>\n",
       "    </tr>\n",
       "  </thead>\n",
       "  <tbody>\n",
       "    <tr>\n",
       "      <th>0</th>\n",
       "      <td>2180.889893</td>\n",
       "    </tr>\n",
       "    <tr>\n",
       "      <th>1</th>\n",
       "      <td>2181.739990</td>\n",
       "    </tr>\n",
       "    <tr>\n",
       "      <th>2</th>\n",
       "      <td>2175.489990</td>\n",
       "    </tr>\n",
       "    <tr>\n",
       "      <th>3</th>\n",
       "      <td>2185.790039</td>\n",
       "    </tr>\n",
       "    <tr>\n",
       "      <th>4</th>\n",
       "      <td>2184.050049</td>\n",
       "    </tr>\n",
       "  </tbody>\n",
       "</table>\n",
       "</div>"
      ],
      "text/plain": [
       "         Close\n",
       "0  2180.889893\n",
       "1  2181.739990\n",
       "2  2175.489990\n",
       "3  2185.790039\n",
       "4  2184.050049"
      ]
     },
     "execution_count": 28,
     "metadata": {},
     "output_type": "execute_result"
    }
   ],
   "source": [
    "# Val Data\n",
    "dataset_val = pd.read_csv(\"val.csv\")\n",
    "dataset_val['Date'] = pd.to_datetime(dataset_val['Date'])\n",
    "dataset_val = dataset_val[['Close']]\n",
    "dataset_val.head()"
   ]
  },
  {
   "cell_type": "code",
   "execution_count": 29,
   "id": "53232b22",
   "metadata": {},
   "outputs": [
    {
     "data": {
      "text/html": [
       "<div>\n",
       "<style scoped>\n",
       "    .dataframe tbody tr th:only-of-type {\n",
       "        vertical-align: middle;\n",
       "    }\n",
       "\n",
       "    .dataframe tbody tr th {\n",
       "        vertical-align: top;\n",
       "    }\n",
       "\n",
       "    .dataframe thead th {\n",
       "        text-align: right;\n",
       "    }\n",
       "</style>\n",
       "<table border=\"1\" class=\"dataframe\">\n",
       "  <thead>\n",
       "    <tr style=\"text-align: right;\">\n",
       "      <th></th>\n",
       "      <th>Close</th>\n",
       "    </tr>\n",
       "  </thead>\n",
       "  <tbody>\n",
       "    <tr>\n",
       "      <th>0</th>\n",
       "      <td>0.101745</td>\n",
       "    </tr>\n",
       "    <tr>\n",
       "      <th>1</th>\n",
       "      <td>0.102649</td>\n",
       "    </tr>\n",
       "    <tr>\n",
       "      <th>2</th>\n",
       "      <td>0.096005</td>\n",
       "    </tr>\n",
       "    <tr>\n",
       "      <th>3</th>\n",
       "      <td>0.106955</td>\n",
       "    </tr>\n",
       "    <tr>\n",
       "      <th>4</th>\n",
       "      <td>0.105105</td>\n",
       "    </tr>\n",
       "    <tr>\n",
       "      <th>...</th>\n",
       "      <td>...</td>\n",
       "    </tr>\n",
       "    <tr>\n",
       "      <th>801</th>\n",
       "      <td>0.936524</td>\n",
       "    </tr>\n",
       "    <tr>\n",
       "      <th>802</th>\n",
       "      <td>0.967917</td>\n",
       "    </tr>\n",
       "    <tr>\n",
       "      <th>803</th>\n",
       "      <td>0.961549</td>\n",
       "    </tr>\n",
       "    <tr>\n",
       "      <th>804</th>\n",
       "      <td>0.970330</td>\n",
       "    </tr>\n",
       "    <tr>\n",
       "      <th>805</th>\n",
       "      <td>0.957839</td>\n",
       "    </tr>\n",
       "  </tbody>\n",
       "</table>\n",
       "<p>806 rows × 1 columns</p>\n",
       "</div>"
      ],
      "text/plain": [
       "        Close\n",
       "0    0.101745\n",
       "1    0.102649\n",
       "2    0.096005\n",
       "3    0.106955\n",
       "4    0.105105\n",
       "..        ...\n",
       "801  0.936524\n",
       "802  0.967917\n",
       "803  0.961549\n",
       "804  0.970330\n",
       "805  0.957839\n",
       "\n",
       "[806 rows x 1 columns]"
      ]
     },
     "execution_count": 29,
     "metadata": {},
     "output_type": "execute_result"
    }
   ],
   "source": [
    "dataset_val_normalized = min_max_normalize(dataset_val)\n",
    "dataset_val_normalized"
   ]
  },
  {
   "cell_type": "code",
   "execution_count": 30,
   "id": "51fc0c58",
   "metadata": {},
   "outputs": [],
   "source": [
    "x_val = []\n",
    "y_val = []\n",
    "for index in range(len(dataset_val_normalized) - window):\n",
    "    need_data = dataset_val_normalized[index: index + window]\n",
    "    x_val.append(need_data.iloc[:-1])\n",
    "    y_val.append(need_data.iloc[-1])\n",
    "x_val = np.array(x_val)\n",
    "y_val = np.array(y_val)\n",
    "x_val_2d = np.reshape(x_val, (785, 20))\n",
    "y_val = np.squeeze(y_val)\n",
    "y_val = np.array(y_val)"
   ]
  },
  {
   "cell_type": "code",
   "execution_count": 31,
   "id": "60eb0eab",
   "metadata": {},
   "outputs": [],
   "source": [
    "# 预测\n",
    "y_val_pred = xgb_train_model.predict(x_val_2d)"
   ]
  },
  {
   "cell_type": "markdown",
   "id": "e31559ef",
   "metadata": {},
   "source": [
    "# Visualization"
   ]
  },
  {
   "cell_type": "code",
   "execution_count": 32,
   "id": "7e2b9868",
   "metadata": {},
   "outputs": [],
   "source": [
    "min_1 = dataset_train.min()[0]\n",
    "max_1 = dataset_train.max()[0]\n",
    "y_train_o = pd.DataFrame(y_train)*(max_1-min_1)+min_1\n",
    "y_train_pred_o = pd.DataFrame(y_train_pred)*(max_1-min_1)+min_1\n",
    "min_2 = np.min(dataset_val,axis=0)[0]\n",
    "max_2 = np.max(dataset_val,axis=0)[0]\n",
    "y_val_o = pd.DataFrame(y_val)*(max_2-min_2)+min_2\n",
    "y_val_pred_o = pd.DataFrame(y_val_pred)*(max_2-min_2)+min_2\n",
    "min_3 = dataset_test.min()[0]\n",
    "max_3 = dataset_test.max()[0]\n",
    "y_test_o = pd.DataFrame(y_test)*(max_3-min_3)+min_3\n",
    "y_test_pred_o = pd.DataFrame(y_test_pred)*(max_3-min_3)+min_3"
   ]
  },
  {
   "cell_type": "code",
   "execution_count": 33,
   "id": "ccec4bbd",
   "metadata": {},
   "outputs": [],
   "source": [
    "N_val = 2395\n",
    "# 将索引加上一个值\n",
    "new_index = y_val_o.index.map(lambda x: x + N_val)\n",
    "y_val_o.index = new_index\n",
    "y_val_pred_o.index = new_index"
   ]
  },
  {
   "cell_type": "code",
   "execution_count": 34,
   "id": "3d2b1fa7",
   "metadata": {},
   "outputs": [
    {
     "data": {
      "text/plain": [
       "<Figure size 2400x1600 with 0 Axes>"
      ]
     },
     "metadata": {},
     "output_type": "display_data"
    },
    {
     "data": {
      "image/png": "[encoded data removed]",
      "text/plain": [
       "<Figure size 1440x360 with 1 Axes>"
      ]
     },
     "metadata": {
      "needs_background": "light"
     },
     "output_type": "display_data"
    }
   ],
   "source": [
    "import matplotlib.pyplot as plt\n",
    "\n",
    "## Show all curve\n",
    "plt.figure(dpi=400)\n",
    "plt.figure(figsize=(20, 5))\n",
    "plt.plot(y_train_o, color = 'blue', label = 'Price')\n",
    "plt.plot(y_train_pred_o, color = 'green', label = 'Training Set Prediction')\n",
    "plt.xlabel('Days')\n",
    "plt.ylabel('Price')\n",
    "plt.plot(y_val_o, color = 'purple', label = 'Val data Prediction')\n",
    "plt.plot(y_val_pred_o, color = 'orange', label = 'Val Price')\n",
    "plt.legend()\n",
    "plt.savefig(\"Val-Result1.png\", dpi=500)\n",
    "plt.show()"
   ]
  },
  {
   "cell_type": "code",
   "execution_count": 35,
   "id": "8fc208c1",
   "metadata": {},
   "outputs": [
    {
     "data": {
      "text/plain": [
       "<Figure size 2400x1600 with 0 Axes>"
      ]
     },
     "metadata": {},
     "output_type": "display_data"
    },
    {
     "data": {
      "image/png": "[encoded data removed]",
      "text/plain": [
       "<Figure size 1440x360 with 1 Axes>"
      ]
     },
     "metadata": {
      "needs_background": "light"
     },
     "output_type": "display_data"
    }
   ],
   "source": [
    "## Show all curve\n",
    "plt.figure(dpi=400)\n",
    "plt.figure(figsize=(20, 5))\n",
    "plt.xlabel('Days')\n",
    "plt.ylabel('Price')\n",
    "plt.plot(y_test_o, color = 'purple', label = 'Test data Prediction')\n",
    "plt.plot(y_test_pred_o, color = 'orange', label = 'Test Price')\n",
    "plt.legend()\n",
    "plt.savefig(\"Test-Result1.png\", dpi=500)\n",
    "plt.show()"
   ]
  },
  {
   "cell_type": "markdown",
   "id": "e2368845",
   "metadata": {},
   "source": [
    "# Backtest"
   ]
  },
  {
   "cell_type": "code",
   "execution_count": 36,
   "id": "f574bfcb",
   "metadata": {},
   "outputs": [],
   "source": [
    "def backtest(predictions, original_prices, threshold=0.015, initial_cash=500000):\n",
    "    \"\"\"\n",
    "    Backtest function to simulate trading based on the model's predictions.\n",
    "\n",
    "    :param predictions: The predicted prices from the model.\n",
    "    :param original_prices: The actual prices of the stock.\n",
    "    :param threshold: The threshold for making a trade decision.\n",
    "    :param initial_cash: The initial cash in the portfolio.\n",
    "    :return: The final portfolio value and the total return.\n",
    "    \"\"\"\n",
    "    cash = initial_cash\n",
    "    shares = 0\n",
    "    total_assets = initial_cash\n",
    "\n",
    "    for i in range(1, len(predictions)):\n",
    "        predicted_change = (predictions[i] - original_prices[i - 1]) / original_prices[i - 1]\n",
    "        actual_change = (original_prices[i] - original_prices[i - 1]) / original_prices[i - 1]\n",
    "\n",
    "        # Decision to buy\n",
    "        if predicted_change > threshold and cash >= original_prices[i]:\n",
    "            shares_bought = cash // original_prices[i]\n",
    "            shares += shares_bought\n",
    "            cash -= shares_bought * original_prices[i]\n",
    "\n",
    "        # Decision to sell\n",
    "        elif predicted_change < -threshold and shares > 0:\n",
    "            cash += shares * original_prices[i]\n",
    "            shares = 0\n",
    "\n",
    "        # Update total assets value\n",
    "        total_assets = cash + shares * original_prices[i]\n",
    "\n",
    "    total_return = total_assets - initial_cash\n",
    "    return total_assets, total_return"
   ]
  },
  {
   "cell_type": "markdown",
   "id": "c2b4c08f",
   "metadata": {},
   "source": [
    "## train backtest"
   ]
  },
  {
   "cell_type": "code",
   "execution_count": 37,
   "id": "b7cc132b",
   "metadata": {},
   "outputs": [],
   "source": [
    "y_train_list = y_train_o[0].tolist()\n",
    "y_train_pred_list = y_train_pred_o[0].tolist()"
   ]
  },
  {
   "cell_type": "code",
   "execution_count": 38,
   "id": "fc8f3816",
   "metadata": {},
   "outputs": [
    {
     "name": "stdout",
     "output_type": "stream",
     "text": [
      "Final Assets: 1360275.2352294922 Total Return: 860275.2352294922 Return Rate: 172.05504704589845\n"
     ]
    }
   ],
   "source": [
    "initial_cash = 500000\n",
    "threshold = 0.015\n",
    "# Applying the backtest function to the LSTM model's predictions\n",
    "final_assets, total_return = backtest(y_train_pred_list, y_train_list, threshold=threshold, initial_cash=initial_cash)\n",
    "return_rate = (total_return/initial_cash)*100\n",
    "print(\"Final Assets:\", final_assets, \"Total Return:\", total_return, \"Return Rate:\",return_rate)"
   ]
  },
  {
   "cell_type": "markdown",
   "id": "7f755bef",
   "metadata": {},
   "source": [
    "## val backtest"
   ]
  },
  {
   "cell_type": "code",
   "execution_count": 39,
   "id": "910860f4",
   "metadata": {},
   "outputs": [],
   "source": [
    "y_val_list = y_val_o[0].tolist()\n",
    "y_val_pred_list = y_val_pred_o[0].tolist()"
   ]
  },
  {
   "cell_type": "code",
   "execution_count": 40,
   "id": "a184a249",
   "metadata": {},
   "outputs": [
    {
     "name": "stdout",
     "output_type": "stream",
     "text": [
      "Final Assets: 718152.0346679688 Total Return: 218152.03466796875 Return Rate: 43.630406933593754\n"
     ]
    }
   ],
   "source": [
    "initial_cash = 500000\n",
    "threshold = 0.015\n",
    "# Applying the backtest function to the LSTM model's predictions\n",
    "final_assets, total_return = backtest(y_val_pred_list, y_val_list, threshold=threshold, initial_cash=initial_cash)\n",
    "return_rate = (total_return/initial_cash)*100\n",
    "print(\"Final Assets:\", final_assets, \"Total Return:\", total_return, \"Return Rate:\",return_rate)"
   ]
  },
  {
   "cell_type": "markdown",
   "id": "cc801915",
   "metadata": {},
   "source": [
    "## test backtest"
   ]
  },
  {
   "cell_type": "code",
   "execution_count": 41,
   "id": "1bb6de09",
   "metadata": {},
   "outputs": [],
   "source": [
    "y_test_list = y_test_o[0].tolist()\n",
    "y_test_pred_list = y_test_pred_o[0].tolist()"
   ]
  },
  {
   "cell_type": "code",
   "execution_count": 42,
   "id": "fbb8d10b",
   "metadata": {},
   "outputs": [
    {
     "name": "stdout",
     "output_type": "stream",
     "text": [
      "Final Assets: 761118.734375 Total Return: 261118.734375 Return Rate: 52.223746874999996\n"
     ]
    }
   ],
   "source": [
    "initial_cash = 500000\n",
    "threshold = 0.015\n",
    "# Applying the backtest function to the model's predictions\n",
    "final_assets, total_return = backtest(y_test_pred_list, y_test_list, threshold=threshold, initial_cash=initial_cash)\n",
    "return_rate = (total_return/initial_cash)*100\n",
    "print(\"Final Assets:\", final_assets, \"Total Return:\", total_return, \"Return Rate:\",return_rate)"
   ]
  },
  {
   "cell_type": "markdown",
   "id": "245862e0",
   "metadata": {},
   "source": [
    "# Parameter Tuning Code"
   ]
  },
  {
   "cell_type": "markdown",
   "id": "0d7aedc5",
   "metadata": {},
   "source": [
    "## train dataset"
   ]
  },
  {
   "cell_type": "code",
   "execution_count": null,
   "id": "50e546d6",
   "metadata": {},
   "outputs": [],
   "source": [
    "# Parameter Tuning\n",
    "from sklearn.model_selection import GridSearchCV\n",
    "from sklearn.metrics import mean_squared_error\n",
    "\n",
    "# define the search space\n",
    "param_grid = {\n",
    "    'n_estimators': [50, 100],\n",
    "    'learning_rate': [0.01,0.05, 0.1],\n",
    "    'max_depth': [2, 3, 4],\n",
    "    'objective': ['reg:squarederror']\n",
    "}\n",
    "\n",
    "# create model and cross-validation objects\n",
    "xgb_model = XGBoost()\n",
    "grid_search = GridSearchCV(xgb_model, param_grid, scoring='neg_mean_squared_error', cv=3, n_jobs=3, verbose=2)\n",
    "\n",
    "# perform cross-validation\n",
    "grid_search.fit(x_train_2d, y_train)\n",
    "\n",
    "# output the best parameters and corresponding model performance\n",
    "print(\"Best parameters found: \", grid_search.best_params_)\n",
    "print(\"Best RMSE found: \", np.sqrt(-grid_search.best_score_))"
   ]
  },
  {
   "cell_type": "markdown",
   "id": "2d93b045",
   "metadata": {},
   "source": [
    "## test dataset"
   ]
  },
  {
   "cell_type": "code",
   "execution_count": null,
   "id": "fb2c4626",
   "metadata": {},
   "outputs": [],
   "source": [
    "# Parameter Tuning\n",
    "from sklearn.model_selection import GridSearchCV\n",
    "from sklearn.metrics import mean_squared_error\n",
    "\n",
    "# define the search space\n",
    "param_grid = {\n",
    "    'n_estimators': [50, 100],\n",
    "    'learning_rate': [0.01, 0.05, 0.1],\n",
    "    'max_depth': [2, 3, 4],\n",
    "    'objective': ['reg:squarederror']\n",
    "}\n",
    "\n",
    "# create model and cross-validation objects\n",
    "grid_search = GridSearchCV(xgb_test_model, param_grid, scoring='neg_mean_squared_error', cv=3, n_jobs=3, verbose=2)\n",
    "\n",
    "# perform cross-validation\n",
    "grid_search.fit(x_test_2d, y_test)\n",
    "\n",
    "# output the best parameters and corresponding model performance\n",
    "print(\"Best parameters found: \", grid_search.best_params_)\n",
    "print(\"Best RMSE found: \", np.sqrt(-grid_search.best_score_))"
   ]
  }
 ],
 "metadata": {
  "kernelspec": {
   "display_name": "Python 3 (ipykernel)",
   "language": "python",
   "name": "python3"
  },
  "language_info": {
   "codemirror_mode": {
    "name": "ipython",
    "version": 3
   },
   "file_extension": ".py",
   "mimetype": "text/x-python",
   "name": "python",
   "nbconvert_exporter": "python",
   "pygments_lexer": "ipython3",
   "version": "3.9.12"
  }
 },
 "nbformat": 4,
 "nbformat_minor": 5
}
